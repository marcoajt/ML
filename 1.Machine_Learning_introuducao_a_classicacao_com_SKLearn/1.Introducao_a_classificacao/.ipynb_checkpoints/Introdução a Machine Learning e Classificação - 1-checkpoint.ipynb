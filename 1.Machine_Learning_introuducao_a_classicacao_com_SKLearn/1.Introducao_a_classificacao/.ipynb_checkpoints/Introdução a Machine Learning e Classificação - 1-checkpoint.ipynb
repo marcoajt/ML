{
 "cells": [
  {
   "cell_type": "code",
   "execution_count": 1,
   "id": "941277ac",
   "metadata": {},
   "outputs": [],
   "source": [
    "#features\n",
    "#longo?\n",
    "#perna curta?\n",
    "#faz auau?\n",
    "\n",
    "porco1 = [0, 1, 0]\n",
    "porco2 = [0, 1, 1]\n",
    "porco3 = [1, 1, 0]\n",
    "\n",
    "cachorro1 = [0, 1, 1]\n",
    "cachorro2 = [1, 0, 1]\n",
    "cachorro3 = [1, 1, 1]\n",
    "\n",
    "# 1 => porco, 0 => cachorro\n",
    "treino_x = [porco1, porco2, porco3, cachorro1, cachorro2, cachorro3] # dados\n",
    "treino_y = [1, 1, 1, 0, 0, 0] # classes"
   ]
  },
  {
   "cell_type": "code",
   "execution_count": 2,
   "id": "45e67831",
   "metadata": {},
   "outputs": [
    {
     "data": {
      "text/plain": [
       "LinearSVC()"
      ]
     },
     "execution_count": 2,
     "metadata": {},
     "output_type": "execute_result"
    }
   ],
   "source": [
    "from sklearn.svm import LinearSVC # LinearSVC é um estimador básico\n",
    "model = LinearSVC() # instâciar o estimador\n",
    "model.fit(treino_x, treino_y) # adaptar o cerebro de acordo com 2 informações, dados e classes"
   ]
  },
  {
   "cell_type": "code",
   "execution_count": 3,
   "id": "0ef5182b",
   "metadata": {},
   "outputs": [
    {
     "data": {
      "text/plain": [
       "array([0])"
      ]
     },
     "execution_count": 3,
     "metadata": {},
     "output_type": "execute_result"
    }
   ],
   "source": [
    "animal_misterioso = [1,1,1] # que animal é?\n",
    "model.predict([animal_misterioso]) # predict espera um array com vários itens, por isso não se usa model.predict(animal_misterioso)"
   ]
  },
  {
   "cell_type": "code",
   "execution_count": 4,
   "id": "df4344dd",
   "metadata": {},
   "outputs": [],
   "source": [
    "misterio1 = [1,1,1]\n",
    "misterio2 = [1,1,0]\n",
    "misterio3 = [0,1,1]\n",
    "\n",
    "teste_x = [misterio1, misterio2, misterio3]\n",
    "teste_y = [0, 1, 1] # classes originais do teste\n"
   ]
  },
  {
   "cell_type": "code",
   "execution_count": 5,
   "id": "43d3d8b2",
   "metadata": {},
   "outputs": [],
   "source": [
    "previsoes = model.predict(teste_x)"
   ]
  },
  {
   "cell_type": "code",
   "execution_count": 6,
   "id": "19880fc8",
   "metadata": {},
   "outputs": [
    {
     "data": {
      "text/plain": [
       "array([0, 1, 0])"
      ]
     },
     "execution_count": 6,
     "metadata": {},
     "output_type": "execute_result"
    }
   ],
   "source": [
    "previsoes"
   ]
  },
  {
   "cell_type": "code",
   "execution_count": 7,
   "id": "1f81c240",
   "metadata": {},
   "outputs": [
    {
     "data": {
      "text/plain": [
       "[0, 1, 1]"
      ]
     },
     "execution_count": 7,
     "metadata": {},
     "output_type": "execute_result"
    }
   ],
   "source": [
    "teste_y"
   ]
  },
  {
   "cell_type": "code",
   "execution_count": 8,
   "id": "33e4be88",
   "metadata": {},
   "outputs": [
    {
     "data": {
      "text/plain": [
       "array([ True,  True, False])"
      ]
     },
     "execution_count": 8,
     "metadata": {},
     "output_type": "execute_result"
    }
   ],
   "source": [
    "previsoes == teste_y"
   ]
  },
  {
   "cell_type": "code",
   "execution_count": 9,
   "id": "a1901b2d",
   "metadata": {},
   "outputs": [
    {
     "data": {
      "text/plain": [
       "2"
      ]
     },
     "execution_count": 9,
     "metadata": {},
     "output_type": "execute_result"
    }
   ],
   "source": [
    "(previsoes == teste_y).sum() # números de verdadeiros"
   ]
  },
  {
   "cell_type": "code",
   "execution_count": 12,
   "id": "90049693",
   "metadata": {
    "scrolled": true
   },
   "outputs": [
    {
     "name": "stdout",
     "output_type": "stream",
     "text": [
      "Taxa de acertos 66.67 \n"
     ]
    }
   ],
   "source": [
    "corretos = (previsoes == teste_y).sum()\n",
    "total = len(teste_x)\n",
    "taxa_de_acertos = corretos/total\n",
    "print('Taxa de acertos %.2f ' % (taxa_de_acertos * 100))"
   ]
  },
  {
   "cell_type": "code",
   "execution_count": 13,
   "id": "46395c04",
   "metadata": {},
   "outputs": [
    {
     "name": "stdout",
     "output_type": "stream",
     "text": [
      "Taxa de acertos 66.67 \n"
     ]
    }
   ],
   "source": [
    "from sklearn.metrics import accuracy_score\n",
    "\n",
    "taxa_de_acerto = accuracy_score(teste_y, previsoes) # (valores verdadeiros, valores previstos)\n",
    "print('Taxa de acertos %.2f ' % (taxa_de_acertos * 100))"
   ]
  },
  {
   "cell_type": "code",
   "execution_count": null,
   "id": "9ae05c3b",
   "metadata": {},
   "outputs": [],
   "source": []
  }
 ],
 "metadata": {
  "kernelspec": {
   "display_name": "Python 3 (ipykernel)",
   "language": "python",
   "name": "python3"
  },
  "language_info": {
   "codemirror_mode": {
    "name": "ipython",
    "version": 3
   },
   "file_extension": ".py",
   "mimetype": "text/x-python",
   "name": "python",
   "nbconvert_exporter": "python",
   "pygments_lexer": "ipython3",
   "version": "3.10.2"
  }
 },
 "nbformat": 4,
 "nbformat_minor": 5
}
